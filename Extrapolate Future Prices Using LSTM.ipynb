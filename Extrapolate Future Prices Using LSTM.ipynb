{
 "cells": [
  {
   "cell_type": "markdown",
   "metadata": {},
   "source": [
    "# Extrapolate Future Prices Using LSTM"
   ]
  },
  {
   "cell_type": "code",
   "execution_count": 1,
   "metadata": {},
   "outputs": [],
   "source": [
    "import numpy as np\n",
    "import pandas as pd\n",
    "from tensorflow.keras.models import Sequential\n",
    "from tensorflow.keras.layers import LSTM, Dense, Dropout\n",
    "from sklearn.preprocessing import MinMaxScaler\n",
    "\n",
    "# Load the dataset\n",
    "data = pd.read_csv('ethereum_2015-08-07_2024-09-08.csv')\n",
    "\n",
    "# Extract the 'Close' price or the target variable (assuming you want to predict 'Close')\n",
    "prices = data['Close'].values\n",
    "\n",
    "# Normalize the prices using MinMaxScaler (scaling between 0 and 1)\n",
    "scaler = MinMaxScaler(feature_range=(0, 1))\n",
    "prices_scaled = scaler.fit_transform(prices.reshape(-1, 1))\n",
    "\n",
    "# Prepare data for LSTM\n",
    "# Use the last 60 days as input to predict the next day\n",
    "sequence_length = 60\n",
    "X = []\n",
    "y = []\n",
    "\n",
    "for i in range(sequence_length, len(prices_scaled)):\n",
    "    X.append(prices_scaled[i-sequence_length:i, 0])\n",
    "    y.append(prices_scaled[i, 0])\n",
    "\n",
    "X, y = np.array(X), np.array(y)\n",
    "\n",
    "# Reshape input for LSTM (samples, time steps, features)\n",
    "X = np.reshape(X, (X.shape[0], X.shape[1], 1))\n",
    "\n",
    "# Build the LSTM model\n",
    "model = Sequential()\n",
    "model.add(LSTM(units=50, return_sequences=True, input_shape=(X.shape[1], 1)))\n",
    "model.add(Dropout(0.2))  # Regularisation to prevent overfitting\n",
    "model.add(LSTM(units=50))\n",
    "model.add(Dropout(0.2))\n",
    "model.add(Dense(1))  # Output layer\n",
    "\n",
    "# Compile the model\n",
    "model.compile(optimizer='adam', loss='mean_squared_error')\n",
    "\n",
    "# Train the model\n",
    "model.fit(X, y, epochs=100, batch_size=64)\n",
    "\n",
    "# Prepare the input for the next 90 days prediction\n",
    "# Use the last 60 days (up to 2024-09-08) as input\n",
    "last_60_days = prices_scaled[-60:]\n",
    "X_future = last_60_days.reshape(1, last_60_days.shape[0], 1)\n",
    "\n",
    "# Predict the next 90 days\n",
    "future_predictions = []\n",
    "n_future = 90  # Number of days to predict\n",
    "\n",
    "for day in range(n_future):\n",
    "    predicted_price = model.predict(X_future)\n",
    "    future_predictions.append(predicted_price[0, 0])\n",
    "    \n",
    "    # Update X_future to include the new predicted price and drop the oldest one\n",
    "    X_future = np.append(X_future[:, 1:, :], [[predicted_price]], axis=1)\n",
    "\n",
    "# Inverse transform the predicted prices to get actual values\n",
    "future_predictions = scaler.inverse_transform(np.array(future_predictions).reshape(-1, 1))\n",
    "\n",
    "# Output the future predictions (next 90 days)\n",
    "print(future_predictions)\n"
   ]
  }
 ],
 "metadata": {
  "kernelspec": {
   "display_name": "Python 3",
   "language": "python",
   "name": "python3"
  },
  "language_info": {
   "codemirror_mode": {
    "name": "ipython",
    "version": 3
   },
   "file_extension": ".py",
   "mimetype": "text/x-python",
   "name": "python",
   "nbconvert_exporter": "python",
   "pygments_lexer": "ipython3",
   "version": "3.12.3"
  }
 },
 "nbformat": 4,
 "nbformat_minor": 2
}
